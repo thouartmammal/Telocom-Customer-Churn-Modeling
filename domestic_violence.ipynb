{
 "cells": [
  {
   "cell_type": "code",
   "execution_count": 2,
   "id": "f720ccb6-cb0e-499d-9d09-eb63cd462bcf",
   "metadata": {},
   "outputs": [
    {
     "name": "stderr",
     "output_type": "stream",
     "text": [
      "/home/hle12/miniforge3/lib/python3.12/site-packages/tqdm/auto.py:21: TqdmWarning: IProgress not found. Please update jupyter and ipywidgets. See https://ipywidgets.readthedocs.io/en/stable/user_install.html\n",
      "  from .autonotebook import tqdm as notebook_tqdm\n"
     ]
    }
   ],
   "source": [
    "import kagglehub\n",
    "import os\n",
    "import pandas as pd\n",
    "import numpy as np\n",
    "import random\n",
    "from sklearn.model_selection import train_test_split\n",
    "from collections import Counter\n",
    "import torch\n",
    "import torch.nn as nn\n",
    "import torch.optim as optim\n",
    "import matplotlib.pyplot as plt\n",
    "from sklearn.metrics import classification_report, accuracy_score, confusion_matrix\n",
    "from imblearn.over_sampling import SMOTE\n",
    "from torch.utils.data import TensorDataset, DataLoader"
   ]
  },
  {
   "cell_type": "code",
   "execution_count": 3,
   "id": "1f79b25a-0dda-4409-b019-586f47f178f2",
   "metadata": {},
   "outputs": [],
   "source": [
    "# Download the dataset\n",
    "path = kagglehub.dataset_download(\"fahmidachowdhury/domestic-violence-against-women\")\n",
    "\n",
    "# List files in the directory to find the CSV\n",
    "csv_files = [f for f in os.listdir(path) if f.endswith(\".csv\")]\n",
    "\n",
    "if not csv_files:\n",
    "    raise FileNotFoundError(f\"No CSV files found in {path}\")\n",
    "\n",
    "# Construct path to the CSV file\n",
    "csv_path = os.path.join(path, csv_files[0])\n",
    "\n",
    "# Load the CSV into a DataFrame\n",
    "dataframe = pd.read_csv(csv_path)"
   ]
  },
  {
   "cell_type": "code",
   "execution_count": 4,
   "id": "d8040730-47df-47f9-a104-7f304d943687",
   "metadata": {},
   "outputs": [
    {
     "name": "stdout",
     "output_type": "stream",
     "text": [
      "   SL. No  Age Education  Employment   Income Marital status  Violence \n",
      "0       1   30  secondary  unemployed       0         married       yes\n",
      "1       2   47   tertiary  unemployed       0         married        no\n",
      "2       3   24   tertiary  unemployed       0        unmarred        no\n",
      "3       4   22   tertiary  unemployed       0        unmarred        no\n",
      "4       5   50    primary  unemployed       0         married       yes\n"
     ]
    }
   ],
   "source": [
    "print(dataframe.head())"
   ]
  },
  {
   "cell_type": "markdown",
   "id": "335c46ab-e9ba-4803-b712-3df32ad8ace2",
   "metadata": {},
   "source": [
    "# Checking the reliability of data and data cleaning\n",
    "\n",
    "<b> Interesting observation(s): </b>\n",
    "\n",
    "⭐ 75.22% of the dataset contains are of non-violent households, indicating an class-unbalanced.\n",
    "\n",
    "⭐ Around 86.08% of records contain an income of 0. There are many reasons why this may be the case: \n",
    "- Missing income data are default to 0\n",
    "- There may be biases during the retrieval of data\n",
    "- Domestic violence are more easily recorded among low-income households.\n",
    "\n",
    "<b> Change(s) made: </b>\n",
    "\n",
    "⭐ Remove leading and trailing spaces of String data and column labels\n",
    "\n",
    "⭐ Added a column 'Age group' that group data in the column 'Age' into intervals of 10."
   ]
  },
  {
   "cell_type": "code",
   "execution_count": 5,
   "id": "4002f519-9835-40f5-8c25-4075a0d5becf",
   "metadata": {},
   "outputs": [
    {
     "name": "stdout",
     "output_type": "stream",
     "text": [
      "['SL. No', 'Age', 'Education ', 'Employment ', 'Income', 'Marital status ', 'Violence ']\n"
     ]
    }
   ],
   "source": [
    "# Print out column labels for checking\n",
    "\n",
    "print(dataframe.columns.tolist())"
   ]
  },
  {
   "cell_type": "code",
   "execution_count": 6,
   "id": "bd352107-22a0-44c1-ab57-0a0dd50a09a9",
   "metadata": {},
   "outputs": [
    {
     "name": "stdout",
     "output_type": "stream",
     "text": [
      "['SL. No', 'Age', 'Education', 'Employment', 'Income', 'Marital status', 'Violence']\n"
     ]
    }
   ],
   "source": [
    "# Noticeably, some of the column names contain trailing white spaces which we will remove.\n",
    "\n",
    "dataframe.columns = dataframe.columns.str.strip()\n",
    "print(dataframe.columns.tolist())"
   ]
  },
  {
   "cell_type": "code",
   "execution_count": 7,
   "id": "4ce23c1a-8321-4769-b46b-b4558249298c",
   "metadata": {},
   "outputs": [
    {
     "data": {
      "text/plain": [
       "SL. No            0\n",
       "Age               0\n",
       "Education         0\n",
       "Employment        0\n",
       "Income            0\n",
       "Marital status    0\n",
       "Violence          0\n",
       "dtype: int64"
      ]
     },
     "execution_count": 7,
     "metadata": {},
     "output_type": "execute_result"
    }
   ],
   "source": [
    "# Count NA values in each column\n",
    "dataframe.isna().sum()"
   ]
  },
  {
   "cell_type": "code",
   "execution_count": 8,
   "id": "d7054107-45c7-4aaa-9552-bf03238d14f0",
   "metadata": {},
   "outputs": [],
   "source": [
    "# Make SL. No my index column\n",
    "\n",
    "dataframe = dataframe.set_index('SL. No')"
   ]
  },
  {
   "cell_type": "code",
   "execution_count": 9,
   "id": "a8c01003-561a-46d5-ae74-a46354972188",
   "metadata": {},
   "outputs": [
    {
     "data": {
      "text/plain": [
       "Age                int64\n",
       "Education         object\n",
       "Employment        object\n",
       "Income             int64\n",
       "Marital status    object\n",
       "Violence          object\n",
       "dtype: object"
      ]
     },
     "execution_count": 9,
     "metadata": {},
     "output_type": "execute_result"
    }
   ],
   "source": [
    "# Ensure consistency of data type of each column\n",
    "\n",
    "dataframe.dtypes"
   ]
  },
  {
   "cell_type": "code",
   "execution_count": 10,
   "id": "27698cae-50e9-4bee-b24a-9819a34b5f17",
   "metadata": {},
   "outputs": [
    {
     "name": "stdout",
     "output_type": "stream",
     "text": [
      "--- Education ---\n",
      "['secondary' 'tertiary' 'primary' 'none']\n",
      "\n",
      "--- Employment ---\n",
      "['unemployed' 'semi employed' 'employed' 'employed ']\n",
      "\n",
      "--- Marital status ---\n",
      "['married' 'unmarred']\n",
      "\n",
      "--- Violence ---\n",
      "['yes' 'no']\n",
      "\n"
     ]
    }
   ],
   "source": [
    "# Check unique values of columns where the datatype is String\n",
    "string_cols = dataframe.select_dtypes(include='object').columns\n",
    "\n",
    "# Print out the unique values of these columns\n",
    "for col in string_cols:\n",
    "    print(f\"--- {col} ---\")\n",
    "    print(dataframe[col].unique())\n",
    "    print()"
   ]
  },
  {
   "cell_type": "code",
   "execution_count": 11,
   "id": "41d3de70-b81d-410e-ba83-df6c0a25af6b",
   "metadata": {},
   "outputs": [
    {
     "name": "stdout",
     "output_type": "stream",
     "text": [
      "--- Education ---\n",
      "['secondary' 'tertiary' 'primary' 'none']\n",
      "\n",
      "--- Employment ---\n",
      "['unemployed' 'semi employed' 'employed']\n",
      "\n",
      "--- Marital status ---\n",
      "['married' 'unmarred']\n",
      "\n",
      "--- Violence ---\n",
      "['yes' 'no']\n",
      "\n"
     ]
    }
   ],
   "source": [
    "# Noticeably, some of the data contains trailing spaces which we will remove. \n",
    "\n",
    "# Remove trailing spaces for String data type\n",
    "dataframe = dataframe.apply(lambda x: x.str.strip() if x.dtype == 'object' else x)\n",
    "\n",
    "string_cols = dataframe.select_dtypes(include='object').columns\n",
    "\n",
    "# Present the new unique values of String columns\n",
    "for col in string_cols:\n",
    "    print(f\"--- {col} ---\")\n",
    "    print(dataframe[col].unique())\n",
    "    print()"
   ]
  },
  {
   "cell_type": "code",
   "execution_count": 12,
   "id": "a19cf165-7493-4b81-a64d-a2c5352f3657",
   "metadata": {},
   "outputs": [
    {
     "name": "stdout",
     "output_type": "stream",
     "text": [
      "          Count per categories  Percentage\n",
      "Violence                                  \n",
      "no                         261       75.22\n",
      "yes                         86       24.78\n"
     ]
    }
   ],
   "source": [
    "# Check if the dataset is class-balanced (roughly equal number of violent and non-violent relationship)\n",
    "# Result shows that there are more non-violent data than violent.\n",
    "\n",
    "# Calculate the total number of data\n",
    "total_data = len(dataframe['Violence'])\n",
    "\n",
    "# Calculate total number of yes and no in the Violence column\n",
    "count_per_categories = dataframe['Violence'].value_counts()\n",
    "\n",
    "# Calculate the percentage\n",
    "category_percentage = (count_per_categories / total_data) * 100\n",
    "\n",
    "# Present the percentage in a DataFrame\n",
    "violence_statistics = pd.DataFrame({\n",
    "    'Count per categories': count_per_categories,\n",
    "    'Percentage': category_percentage.round(2)  \n",
    "})\n",
    "\n",
    "print(violence_statistics)"
   ]
  },
  {
   "cell_type": "code",
   "execution_count": 13,
   "id": "60da883f-ae77-40f2-aa9e-4c4cf074de01",
   "metadata": {},
   "outputs": [
    {
     "data": {
      "text/html": [
       "<div>\n",
       "<style scoped>\n",
       "    .dataframe tbody tr th:only-of-type {\n",
       "        vertical-align: middle;\n",
       "    }\n",
       "\n",
       "    .dataframe tbody tr th {\n",
       "        vertical-align: top;\n",
       "    }\n",
       "\n",
       "    .dataframe thead th {\n",
       "        text-align: right;\n",
       "    }\n",
       "</style>\n",
       "<table border=\"1\" class=\"dataframe\">\n",
       "  <thead>\n",
       "    <tr style=\"text-align: right;\">\n",
       "      <th></th>\n",
       "      <th>Age</th>\n",
       "      <th>Income</th>\n",
       "    </tr>\n",
       "  </thead>\n",
       "  <tbody>\n",
       "    <tr>\n",
       "      <th>count</th>\n",
       "      <td>347.0</td>\n",
       "      <td>347.0</td>\n",
       "    </tr>\n",
       "    <tr>\n",
       "      <th>mean</th>\n",
       "      <td>31.4</td>\n",
       "      <td>2110.7</td>\n",
       "    </tr>\n",
       "    <tr>\n",
       "      <th>std</th>\n",
       "      <td>9.6</td>\n",
       "      <td>5743.3</td>\n",
       "    </tr>\n",
       "    <tr>\n",
       "      <th>min</th>\n",
       "      <td>15.0</td>\n",
       "      <td>0.0</td>\n",
       "    </tr>\n",
       "    <tr>\n",
       "      <th>25%</th>\n",
       "      <td>23.0</td>\n",
       "      <td>0.0</td>\n",
       "    </tr>\n",
       "    <tr>\n",
       "      <th>50%</th>\n",
       "      <td>30.0</td>\n",
       "      <td>0.0</td>\n",
       "    </tr>\n",
       "    <tr>\n",
       "      <th>75%</th>\n",
       "      <td>39.5</td>\n",
       "      <td>0.0</td>\n",
       "    </tr>\n",
       "    <tr>\n",
       "      <th>max</th>\n",
       "      <td>60.0</td>\n",
       "      <td>35000.0</td>\n",
       "    </tr>\n",
       "  </tbody>\n",
       "</table>\n",
       "</div>"
      ],
      "text/plain": [
       "         Age   Income\n",
       "count  347.0    347.0\n",
       "mean    31.4   2110.7\n",
       "std      9.6   5743.3\n",
       "min     15.0      0.0\n",
       "25%     23.0      0.0\n",
       "50%     30.0      0.0\n",
       "75%     39.5      0.0\n",
       "max     60.0  35000.0"
      ]
     },
     "execution_count": 13,
     "metadata": {},
     "output_type": "execute_result"
    }
   ],
   "source": [
    "# Obtain the data information of numeric columns including min, max, mode, average\n",
    "# An interesting observation seen is that the Q1, median and Q3 for the Income column is zero\n",
    "# This indicates that most households in the dataset is low-income, as shown below.\n",
    "\n",
    "dataframe.describe().round(1)"
   ]
  },
  {
   "cell_type": "code",
   "execution_count": 14,
   "id": "1e4f650c-b5e1-44a7-843d-cbb661971aba",
   "metadata": {},
   "outputs": [
    {
     "name": "stdout",
     "output_type": "stream",
     "text": [
      "        Count  Percentage\n",
      "Income                   \n",
      "0         272       86.08\n",
      "5000        8        2.53\n",
      "3000        6        1.90\n",
      "2000        5        1.58\n",
      "22000       5        1.58\n",
      "4000        4        1.27\n",
      "15000       4        1.27\n",
      "6000        4        1.27\n",
      "2500        4        1.27\n",
      "10000       4        1.27\n"
     ]
    }
   ],
   "source": [
    "# Calculate the percentage of income level that made up the top 10 income level based on frequency.\n",
    "\n",
    "# Calculate the total number of each income level for the top 10 income level.\n",
    "count_per_top_10_income = dataframe['Income'].value_counts().head(10)\n",
    "\n",
    "# Calculate the total number of data points\n",
    "income_count = count_per_top_10_income.sum()\n",
    "\n",
    "# Calculate the income percentage\n",
    "income_percentage = (count_per_top_10_income / income_count) * 100\n",
    "\n",
    "# Create a DataFrame of the data\n",
    "income_summary = pd.DataFrame({\n",
    "    'Count': count_per_top_10_income,\n",
    "    'Percentage': income_percentage.round(2)  \n",
    "})\n",
    "\n",
    "print(income_summary)"
   ]
  },
  {
   "cell_type": "code",
   "execution_count": 15,
   "id": "b1a6eb56-2e43-41b8-85b1-57944e83d15a",
   "metadata": {},
   "outputs": [],
   "source": [
    "# Because age is continuous, it might be helpful to the model to group entries according to age groups\n",
    "# Note: it has been previously established that the minimum age is 15 and maximum age is 60.\n",
    "\n",
    "# Define the bin edges for age groups (ages 15 to 65 in 10-year intervals)\n",
    "bin_edges = [15, 25, 35, 45, 55, 65]\n",
    "\n",
    "# Define the labels for each corresponding age group\n",
    "age_groups = [\n",
    "    \"15 ≤ age < 25\",\n",
    "    \"25 ≤ age < 35\",\n",
    "    \"35 ≤ age < 45\",\n",
    "    \"45 ≤ age < 55\",\n",
    "    \"55 ≤ age < 65\"\n",
    "]\n",
    "\n",
    "# Create a new column 'Age group' by binning the 'Age' column into defined intervals\n",
    "# 'right=False' means the intervals are left-inclusive, i.e., [15,25) includes 15 but not 25\n",
    "dataframe['Age group'] = pd.cut(dataframe['Age'], bins=bin_edges, labels=age_groups, right=False)"
   ]
  },
  {
   "cell_type": "code",
   "execution_count": 16,
   "id": "0350f4c4-8953-4622-95d4-f95b60e8b2ca",
   "metadata": {},
   "outputs": [
    {
     "data": {
      "text/html": [
       "<style type=\"text/css\">\n",
       "</style>\n",
       "<table id=\"T_2ef36\">\n",
       "  <thead>\n",
       "    <tr>\n",
       "      <th class=\"blank level0\" >&nbsp;</th>\n",
       "      <th id=\"T_2ef36_level0_col0\" class=\"col_heading level0 col0\" >Age</th>\n",
       "      <th id=\"T_2ef36_level0_col1\" class=\"col_heading level0 col1\" >Education</th>\n",
       "      <th id=\"T_2ef36_level0_col2\" class=\"col_heading level0 col2\" >Employment</th>\n",
       "      <th id=\"T_2ef36_level0_col3\" class=\"col_heading level0 col3\" >Income</th>\n",
       "      <th id=\"T_2ef36_level0_col4\" class=\"col_heading level0 col4\" >Marital status</th>\n",
       "      <th id=\"T_2ef36_level0_col5\" class=\"col_heading level0 col5\" >Violence</th>\n",
       "      <th id=\"T_2ef36_level0_col6\" class=\"col_heading level0 col6\" >Age group</th>\n",
       "    </tr>\n",
       "    <tr>\n",
       "      <th class=\"index_name level0\" >SL. No</th>\n",
       "      <th class=\"blank col0\" >&nbsp;</th>\n",
       "      <th class=\"blank col1\" >&nbsp;</th>\n",
       "      <th class=\"blank col2\" >&nbsp;</th>\n",
       "      <th class=\"blank col3\" >&nbsp;</th>\n",
       "      <th class=\"blank col4\" >&nbsp;</th>\n",
       "      <th class=\"blank col5\" >&nbsp;</th>\n",
       "      <th class=\"blank col6\" >&nbsp;</th>\n",
       "    </tr>\n",
       "  </thead>\n",
       "  <tbody>\n",
       "    <tr>\n",
       "      <th id=\"T_2ef36_level0_row0\" class=\"row_heading level0 row0\" >1</th>\n",
       "      <td id=\"T_2ef36_row0_col0\" class=\"data row0 col0\" >30</td>\n",
       "      <td id=\"T_2ef36_row0_col1\" class=\"data row0 col1\" >secondary</td>\n",
       "      <td id=\"T_2ef36_row0_col2\" class=\"data row0 col2\" >unemployed</td>\n",
       "      <td id=\"T_2ef36_row0_col3\" class=\"data row0 col3\" >0</td>\n",
       "      <td id=\"T_2ef36_row0_col4\" class=\"data row0 col4\" >married</td>\n",
       "      <td id=\"T_2ef36_row0_col5\" class=\"data row0 col5\" >yes</td>\n",
       "      <td id=\"T_2ef36_row0_col6\" class=\"data row0 col6\" >25 ≤ age < 35</td>\n",
       "    </tr>\n",
       "    <tr>\n",
       "      <th id=\"T_2ef36_level0_row1\" class=\"row_heading level0 row1\" >2</th>\n",
       "      <td id=\"T_2ef36_row1_col0\" class=\"data row1 col0\" >47</td>\n",
       "      <td id=\"T_2ef36_row1_col1\" class=\"data row1 col1\" >tertiary</td>\n",
       "      <td id=\"T_2ef36_row1_col2\" class=\"data row1 col2\" >unemployed</td>\n",
       "      <td id=\"T_2ef36_row1_col3\" class=\"data row1 col3\" >0</td>\n",
       "      <td id=\"T_2ef36_row1_col4\" class=\"data row1 col4\" >married</td>\n",
       "      <td id=\"T_2ef36_row1_col5\" class=\"data row1 col5\" >no</td>\n",
       "      <td id=\"T_2ef36_row1_col6\" class=\"data row1 col6\" >45 ≤ age < 55</td>\n",
       "    </tr>\n",
       "    <tr>\n",
       "      <th id=\"T_2ef36_level0_row2\" class=\"row_heading level0 row2\" >3</th>\n",
       "      <td id=\"T_2ef36_row2_col0\" class=\"data row2 col0\" >24</td>\n",
       "      <td id=\"T_2ef36_row2_col1\" class=\"data row2 col1\" >tertiary</td>\n",
       "      <td id=\"T_2ef36_row2_col2\" class=\"data row2 col2\" >unemployed</td>\n",
       "      <td id=\"T_2ef36_row2_col3\" class=\"data row2 col3\" >0</td>\n",
       "      <td id=\"T_2ef36_row2_col4\" class=\"data row2 col4\" >unmarred</td>\n",
       "      <td id=\"T_2ef36_row2_col5\" class=\"data row2 col5\" >no</td>\n",
       "      <td id=\"T_2ef36_row2_col6\" class=\"data row2 col6\" >15 ≤ age < 25</td>\n",
       "    </tr>\n",
       "    <tr>\n",
       "      <th id=\"T_2ef36_level0_row3\" class=\"row_heading level0 row3\" >4</th>\n",
       "      <td id=\"T_2ef36_row3_col0\" class=\"data row3 col0\" >22</td>\n",
       "      <td id=\"T_2ef36_row3_col1\" class=\"data row3 col1\" >tertiary</td>\n",
       "      <td id=\"T_2ef36_row3_col2\" class=\"data row3 col2\" >unemployed</td>\n",
       "      <td id=\"T_2ef36_row3_col3\" class=\"data row3 col3\" >0</td>\n",
       "      <td id=\"T_2ef36_row3_col4\" class=\"data row3 col4\" >unmarred</td>\n",
       "      <td id=\"T_2ef36_row3_col5\" class=\"data row3 col5\" >no</td>\n",
       "      <td id=\"T_2ef36_row3_col6\" class=\"data row3 col6\" >15 ≤ age < 25</td>\n",
       "    </tr>\n",
       "    <tr>\n",
       "      <th id=\"T_2ef36_level0_row4\" class=\"row_heading level0 row4\" >5</th>\n",
       "      <td id=\"T_2ef36_row4_col0\" class=\"data row4 col0\" >50</td>\n",
       "      <td id=\"T_2ef36_row4_col1\" class=\"data row4 col1\" >primary</td>\n",
       "      <td id=\"T_2ef36_row4_col2\" class=\"data row4 col2\" >unemployed</td>\n",
       "      <td id=\"T_2ef36_row4_col3\" class=\"data row4 col3\" >0</td>\n",
       "      <td id=\"T_2ef36_row4_col4\" class=\"data row4 col4\" >married</td>\n",
       "      <td id=\"T_2ef36_row4_col5\" class=\"data row4 col5\" >yes</td>\n",
       "      <td id=\"T_2ef36_row4_col6\" class=\"data row4 col6\" >45 ≤ age < 55</td>\n",
       "    </tr>\n",
       "  </tbody>\n",
       "</table>\n"
      ],
      "text/plain": [
       "<pandas.io.formats.style.Styler at 0x7050b3f1eed0>"
      ]
     },
     "execution_count": 16,
     "metadata": {},
     "output_type": "execute_result"
    }
   ],
   "source": [
    "dataframe.head().style.set_properties()"
   ]
  },
  {
   "cell_type": "markdown",
   "id": "619bbf2c-fe45-4026-9a51-152ff28ea9c5",
   "metadata": {},
   "source": [
    "# Neural Network Model\n",
    "\n",
    "<b> Goal: Binary Classification </b>\n",
    "\n",
    "Being able to predict whether domestic violence is present in a relationship based on socio-economic factors including:\n",
    "- Age\n",
    "- Education\n",
    "- Employment\n",
    "- Income\n",
    "- Marital Status\n",
    "- Age group\n",
    "\n",
    "\n",
    "\n",
    "<b> Explanations of hyperparameter choices: </b>\n",
    "\n",
    "⭐ The dataset is split accordingly into train, test and validation data based on the ratio 80:10:10.\n",
    "\n",
    "⭐ Seed number is 42 because, after random testing and trials, ~0.77 is the ceiling / maximum achievable accuracy.\n",
    "\n",
    "⭐ Epoch number is 125 because visualisation when epoch is 200 shows that, after 125, validation loss stops improving. Testing with epoch numbers between 120-130 were also manually done to prove this.\n",
    "\n",
    "⭐ The chosen threshold is 0.5. I determined the best threshold by analyzing both the ROC curve and the precision-recall curve, as well as through trial and error. Among these methods, trial and error showed that a threshold of 0.5 gives the highest accuracy.\n",
    "\n",
    "<b> Explanations of other choices made: </b>\n",
    "\n",
    "⭐ Stratified sampling are done using sklearn to take into account class-unbalanced.\n",
    "- Due to the dataset not being class-balanced, random sampling may introduce biases.\n",
    "\n",
    "⭐ SMOTE is used on the training data set to balance the data and improve learning. It also yields a higher accuracy than changing the weight of positive examples.\n",
    "\n",
    "⭐ Despite the small dataset, Pytorch is used (instead of scikit-learn) to improve customisability.\n",
    "\n",
    "⭐ Because Pytorch is used, we are converting non-numerical data to numerical through mapping."
   ]
  },
  {
   "cell_type": "code",
   "execution_count": 17,
   "id": "a31f54a5-3b1c-4d12-9e5c-13d6719e9540",
   "metadata": {},
   "outputs": [
    {
     "name": "stdout",
     "output_type": "stream",
     "text": [
      "--- Education ---\n",
      "['secondary' 'tertiary' 'primary' 'none']\n",
      "\n",
      "--- Employment ---\n",
      "['unemployed' 'semi employed' 'employed']\n",
      "\n",
      "--- Marital status ---\n",
      "['married' 'unmarred']\n",
      "\n",
      "--- Violence ---\n",
      "['yes' 'no']\n",
      "\n"
     ]
    },
    {
     "data": {
      "text/plain": [
       "CategoricalDtype(categories=['15 ≤ age < 25', '25 ≤ age < 35', '35 ≤ age < 45',\n",
       "                  '45 ≤ age < 55', '55 ≤ age < 65'],\n",
       ", ordered=True, categories_dtype=object)"
      ]
     },
     "execution_count": 17,
     "metadata": {},
     "output_type": "execute_result"
    }
   ],
   "source": [
    "# Check unique values of columns where the datatype is String\n",
    "string_cols = dataframe.select_dtypes(include='object').columns\n",
    "\n",
    "for col in string_cols:\n",
    "    print(f\"--- {col} ---\")\n",
    "    print(dataframe[col].unique())\n",
    "    print()\n",
    "\n",
    "dataframe['Age group'].dtypes"
   ]
  },
  {
   "cell_type": "code",
   "execution_count": 18,
   "id": "82e1bb88-d92d-469e-a939-2d331398bd22",
   "metadata": {},
   "outputs": [],
   "source": [
    "# Convert non-numeric data to numeric because Pytorch uses tensors.\n",
    "\n",
    "# Assign numberical value to categories\n",
    "Education_map = {\n",
    "    'none': 0,\n",
    "    'primary': 1,\n",
    "    'secondary': 2,\n",
    "    'tertiary': 3\n",
    "}\n",
    "\n",
    "Employment_map = {\n",
    "    'unemployed': 0,\n",
    "    'semi employed': 1,\n",
    "    'employed': 2,\n",
    "}\n",
    "\n",
    "Marital_status_map = {\n",
    "    'unmarred': 0,\n",
    "    'married': 1,\n",
    "}\n",
    "\n",
    "Violence_map = {\n",
    "    'no': 0,\n",
    "    'yes': 1,\n",
    "}\n",
    "\n",
    "Age_group_map = {\n",
    "    \"15 ≤ age < 25\": 0,\n",
    "    \"25 ≤ age < 35\": 1,\n",
    "    \"35 ≤ age < 45\": 2,\n",
    "    \"45 ≤ age < 55\": 3,\n",
    "    \"55 ≤ age < 65\": 4\n",
    "}\n",
    "\n",
    "numeric_df = dataframe.copy()\n",
    "\n",
    "# Map category data to numerical values \n",
    "numeric_df['Education'] = numeric_df['Education'].map(Education_map)\n",
    "numeric_df['Employment'] = numeric_df['Employment'].map(Employment_map)\n",
    "numeric_df['Marital status'] = numeric_df['Marital status'].map(Marital_status_map)\n",
    "numeric_df['Violence'] = numeric_df['Violence'].map(Violence_map)\n",
    "numeric_df['Age group'] = numeric_df['Age group'].map(Age_group_map)"
   ]
  },
  {
   "cell_type": "code",
   "execution_count": 19,
   "id": "35d8a606-c29f-4fe3-9693-fe669f12b16a",
   "metadata": {},
   "outputs": [
    {
     "data": {
      "text/html": [
       "<style type=\"text/css\">\n",
       "</style>\n",
       "<table id=\"T_a6cff\">\n",
       "  <thead>\n",
       "    <tr>\n",
       "      <th class=\"blank level0\" >&nbsp;</th>\n",
       "      <th id=\"T_a6cff_level0_col0\" class=\"col_heading level0 col0\" >Age</th>\n",
       "      <th id=\"T_a6cff_level0_col1\" class=\"col_heading level0 col1\" >Education</th>\n",
       "      <th id=\"T_a6cff_level0_col2\" class=\"col_heading level0 col2\" >Employment</th>\n",
       "      <th id=\"T_a6cff_level0_col3\" class=\"col_heading level0 col3\" >Income</th>\n",
       "      <th id=\"T_a6cff_level0_col4\" class=\"col_heading level0 col4\" >Marital status</th>\n",
       "      <th id=\"T_a6cff_level0_col5\" class=\"col_heading level0 col5\" >Violence</th>\n",
       "      <th id=\"T_a6cff_level0_col6\" class=\"col_heading level0 col6\" >Age group</th>\n",
       "    </tr>\n",
       "    <tr>\n",
       "      <th class=\"index_name level0\" >SL. No</th>\n",
       "      <th class=\"blank col0\" >&nbsp;</th>\n",
       "      <th class=\"blank col1\" >&nbsp;</th>\n",
       "      <th class=\"blank col2\" >&nbsp;</th>\n",
       "      <th class=\"blank col3\" >&nbsp;</th>\n",
       "      <th class=\"blank col4\" >&nbsp;</th>\n",
       "      <th class=\"blank col5\" >&nbsp;</th>\n",
       "      <th class=\"blank col6\" >&nbsp;</th>\n",
       "    </tr>\n",
       "  </thead>\n",
       "  <tbody>\n",
       "    <tr>\n",
       "      <th id=\"T_a6cff_level0_row0\" class=\"row_heading level0 row0\" >1</th>\n",
       "      <td id=\"T_a6cff_row0_col0\" class=\"data row0 col0\" >30</td>\n",
       "      <td id=\"T_a6cff_row0_col1\" class=\"data row0 col1\" >2</td>\n",
       "      <td id=\"T_a6cff_row0_col2\" class=\"data row0 col2\" >0</td>\n",
       "      <td id=\"T_a6cff_row0_col3\" class=\"data row0 col3\" >0</td>\n",
       "      <td id=\"T_a6cff_row0_col4\" class=\"data row0 col4\" >1</td>\n",
       "      <td id=\"T_a6cff_row0_col5\" class=\"data row0 col5\" >1</td>\n",
       "      <td id=\"T_a6cff_row0_col6\" class=\"data row0 col6\" >1</td>\n",
       "    </tr>\n",
       "    <tr>\n",
       "      <th id=\"T_a6cff_level0_row1\" class=\"row_heading level0 row1\" >2</th>\n",
       "      <td id=\"T_a6cff_row1_col0\" class=\"data row1 col0\" >47</td>\n",
       "      <td id=\"T_a6cff_row1_col1\" class=\"data row1 col1\" >3</td>\n",
       "      <td id=\"T_a6cff_row1_col2\" class=\"data row1 col2\" >0</td>\n",
       "      <td id=\"T_a6cff_row1_col3\" class=\"data row1 col3\" >0</td>\n",
       "      <td id=\"T_a6cff_row1_col4\" class=\"data row1 col4\" >1</td>\n",
       "      <td id=\"T_a6cff_row1_col5\" class=\"data row1 col5\" >0</td>\n",
       "      <td id=\"T_a6cff_row1_col6\" class=\"data row1 col6\" >3</td>\n",
       "    </tr>\n",
       "    <tr>\n",
       "      <th id=\"T_a6cff_level0_row2\" class=\"row_heading level0 row2\" >3</th>\n",
       "      <td id=\"T_a6cff_row2_col0\" class=\"data row2 col0\" >24</td>\n",
       "      <td id=\"T_a6cff_row2_col1\" class=\"data row2 col1\" >3</td>\n",
       "      <td id=\"T_a6cff_row2_col2\" class=\"data row2 col2\" >0</td>\n",
       "      <td id=\"T_a6cff_row2_col3\" class=\"data row2 col3\" >0</td>\n",
       "      <td id=\"T_a6cff_row2_col4\" class=\"data row2 col4\" >0</td>\n",
       "      <td id=\"T_a6cff_row2_col5\" class=\"data row2 col5\" >0</td>\n",
       "      <td id=\"T_a6cff_row2_col6\" class=\"data row2 col6\" >0</td>\n",
       "    </tr>\n",
       "    <tr>\n",
       "      <th id=\"T_a6cff_level0_row3\" class=\"row_heading level0 row3\" >4</th>\n",
       "      <td id=\"T_a6cff_row3_col0\" class=\"data row3 col0\" >22</td>\n",
       "      <td id=\"T_a6cff_row3_col1\" class=\"data row3 col1\" >3</td>\n",
       "      <td id=\"T_a6cff_row3_col2\" class=\"data row3 col2\" >0</td>\n",
       "      <td id=\"T_a6cff_row3_col3\" class=\"data row3 col3\" >0</td>\n",
       "      <td id=\"T_a6cff_row3_col4\" class=\"data row3 col4\" >0</td>\n",
       "      <td id=\"T_a6cff_row3_col5\" class=\"data row3 col5\" >0</td>\n",
       "      <td id=\"T_a6cff_row3_col6\" class=\"data row3 col6\" >0</td>\n",
       "    </tr>\n",
       "    <tr>\n",
       "      <th id=\"T_a6cff_level0_row4\" class=\"row_heading level0 row4\" >5</th>\n",
       "      <td id=\"T_a6cff_row4_col0\" class=\"data row4 col0\" >50</td>\n",
       "      <td id=\"T_a6cff_row4_col1\" class=\"data row4 col1\" >1</td>\n",
       "      <td id=\"T_a6cff_row4_col2\" class=\"data row4 col2\" >0</td>\n",
       "      <td id=\"T_a6cff_row4_col3\" class=\"data row4 col3\" >0</td>\n",
       "      <td id=\"T_a6cff_row4_col4\" class=\"data row4 col4\" >1</td>\n",
       "      <td id=\"T_a6cff_row4_col5\" class=\"data row4 col5\" >1</td>\n",
       "      <td id=\"T_a6cff_row4_col6\" class=\"data row4 col6\" >3</td>\n",
       "    </tr>\n",
       "  </tbody>\n",
       "</table>\n"
      ],
      "text/plain": [
       "<pandas.io.formats.style.Styler at 0x7050b36b6c30>"
      ]
     },
     "execution_count": 19,
     "metadata": {},
     "output_type": "execute_result"
    }
   ],
   "source": [
    "numeric_df.head().style.set_properties()"
   ]
  },
  {
   "cell_type": "code",
   "execution_count": 20,
   "id": "140c9a5a-c6df-42bd-9d78-0b16e1d0dd9e",
   "metadata": {},
   "outputs": [],
   "source": [
    "# Creating the training and testing data\n",
    "\n",
    "X = numeric_df.copy().drop('Violence', axis = 1)\n",
    "y = numeric_df['Violence']\n",
    "\n",
    "\n",
    "# Stratified split into train + temp (validation+test)\n",
    "X_train, X_temp, y_train, y_temp = train_test_split(\n",
    "    X, y, test_size=0.2, stratify=y, random_state=42\n",
    ")\n",
    "\n",
    "# Then split temp into validation and test sets (equal halves here)\n",
    "X_val, X_test, y_val, y_test = train_test_split(\n",
    "    X_temp, y_temp, test_size=0.5, stratify=y_temp, random_state=42\n",
    ")"
   ]
  },
  {
   "cell_type": "code",
   "execution_count": 21,
   "id": "66e2588a-93d5-4fa2-8141-bed35cdea770",
   "metadata": {},
   "outputs": [
    {
     "name": "stdout",
     "output_type": "stream",
     "text": [
      "Violence\n",
      "0    0.752161\n",
      "1    0.247839\n",
      "Name: proportion, dtype: float64\n",
      "Violence\n",
      "0    0.750903\n",
      "1    0.249097\n",
      "Name: proportion, dtype: float64\n",
      "Violence\n",
      "0    0.771429\n",
      "1    0.228571\n",
      "Name: proportion, dtype: float64\n"
     ]
    }
   ],
   "source": [
    "# Check to make sure the class proportions of the training, validation and testing sets are roughly the same,\n",
    "\n",
    "print(y.value_counts(normalize=True))\n",
    "print(y_train.value_counts(normalize=True))\n",
    "print(y_test.value_counts(normalize=True))"
   ]
  },
  {
   "cell_type": "code",
   "execution_count": 22,
   "id": "3580aef1-4639-40ac-b55c-3909ec56e60b",
   "metadata": {},
   "outputs": [],
   "source": [
    "# Because we are using Pytorch, convert the dtype of sets from float64 to tensor.float32.\n",
    "def convert(dataset):\n",
    "    return torch.tensor(dataset.values, dtype=torch.float32)\n",
    "\n",
    "\n",
    "X_train = convert(X_train)\n",
    "\n",
    "# Add a new dimension of size 1 to tensors of y sets.\n",
    "# This matches the shapes of the model output with the target labels.\n",
    "y_train = convert(y_train).unsqueeze(1)\n",
    "X_val = convert(X_val)\n",
    "y_val = convert(y_val).unsqueeze(1)\n",
    "X_test = convert(X_test)\n",
    "y_test = convert(y_test).unsqueeze(1)"
   ]
  },
  {
   "cell_type": "code",
   "execution_count": 23,
   "id": "bc1eaaac-9410-4a4c-94a2-b6a8f41b104f",
   "metadata": {},
   "outputs": [
    {
     "name": "stdout",
     "output_type": "stream",
     "text": [
      "(347, 6)\n",
      "torch.Size([277, 6])\n"
     ]
    }
   ],
   "source": [
    "print(X.shape)\n",
    "print(X_train.shape)"
   ]
  },
  {
   "cell_type": "code",
   "execution_count": 24,
   "id": "a2c70e30-1564-4e39-a34a-36e8def7896b",
   "metadata": {},
   "outputs": [],
   "source": [
    "# Set a fixed random seed for reproducibility\n",
    "seed = 42\n",
    "\n",
    "torch.manual_seed(seed)                  # Set seed for PyTorch CPU and CUDA\n",
    "random.seed(seed)                        # Set seed for Python's built-in random module\n",
    "np.random.seed(seed)                     # Set seed for NumPy random functions\n",
    "\n",
    "# Configure PyTorch to use deterministic algorithms\n",
    "torch.backends.cudnn.deterministic = True  # Ensures deterministic behavior when using cuDNN \n",
    "torch.backends.cudnn.benchmark = False     # Disables dynamic algorithm selection for consistent results\n"
   ]
  },
  {
   "cell_type": "code",
   "execution_count": 25,
   "id": "53421e76-19be-4406-ac82-92ab3f3ea15a",
   "metadata": {},
   "outputs": [],
   "source": [
    "y_train = y_train.float()\n",
    "y_val = y_val.float()\n",
    "y_test = y_test.float()"
   ]
  },
  {
   "cell_type": "code",
   "execution_count": 26,
   "id": "e26d073d-3e8c-49b5-8161-af34587fa8b8",
   "metadata": {},
   "outputs": [],
   "source": [
    "# Suppose X_train and y_train are torch tensors\n",
    "X_train_np = X_train.numpy()\n",
    "y_train_np = y_train.numpy()\n",
    "\n",
    "# Apply SMOTE\n",
    "smote = SMOTE(random_state=seed)\n",
    "X_resampled, y_resampled = smote.fit_resample(X_train_np, y_train_np)\n",
    "\n",
    "# Convert back to torch tensors\n",
    "X_resampled_tensor = torch.tensor(X_resampled, dtype=torch.float32)\n",
    "y_resampled_tensor = torch.tensor(y_resampled, dtype=torch.float32).unsqueeze(1)  # shape: [N, 1]\n",
    "\n",
    "# Create TensorDataset\n",
    "dataset_resampled = TensorDataset(X_resampled_tensor, y_resampled_tensor)\n",
    "\n",
    "# Create DataLoader\n",
    "train_loader = DataLoader(dataset_resampled, batch_size=32, shuffle=True)\n"
   ]
  },
  {
   "cell_type": "code",
   "execution_count": 27,
   "id": "0f6c4d51-9120-426c-8966-76a5ea9d4004",
   "metadata": {},
   "outputs": [
    {
     "name": "stdout",
     "output_type": "stream",
     "text": [
      "   Class  Original Count  After SMOTE\n",
      "0    0.0             208          208\n",
      "1    1.0              69          208\n"
     ]
    }
   ],
   "source": [
    "# Original training labels\n",
    "original_counts = Counter(y_train.numpy().ravel())\n",
    "\n",
    "# After SMOTE\n",
    "smote_counts = Counter(y_resampled.ravel())\n",
    "\n",
    "# Create DataFrame\n",
    "df = pd.DataFrame({\n",
    "    \"Original Count\": original_counts,\n",
    "    \"After SMOTE\": smote_counts\n",
    "}).rename_axis(\"Class\").reset_index()\n",
    "\n",
    "print(df)"
   ]
  },
  {
   "cell_type": "code",
   "execution_count": 28,
   "id": "f164eb18-dcf4-411e-a1b4-285ec31e6983",
   "metadata": {},
   "outputs": [],
   "source": [
    "# Create Model\n",
    "model = nn.Sequential(\n",
    "    nn.Linear(6, 32),   # input layer to first hidden layer\n",
    "    nn.ReLU(),\n",
    "    nn.Linear(32, 16),  # second hidden layer\n",
    "    nn.ReLU(),\n",
    "    nn.Linear(16, 32),\n",
    "    nn.ReLU(),\n",
    "    nn.Linear(32, 1)    # output layer\n",
    ")\n",
    "\n",
    "# Create loss function\n",
    "loss_fn = nn.BCEWithLogitsLoss()\n",
    "\n",
    "# Create optimizer\n",
    "optimizer = optim.Adam(model.parameters(), lr=0.001)"
   ]
  },
  {
   "cell_type": "code",
   "execution_count": 29,
   "id": "be1bdd6b-79a6-4ff5-b48c-3aed9fda4a1e",
   "metadata": {},
   "outputs": [],
   "source": [
    "logits = model(X_test) \n",
    "probs = torch.sigmoid(logits)\n",
    "pred_labels = (probs >= 0.5).int()"
   ]
  },
  {
   "cell_type": "code",
   "execution_count": 30,
   "id": "d57abaed-d719-4693-8c22-993383f48fdd",
   "metadata": {},
   "outputs": [
    {
     "name": "stdout",
     "output_type": "stream",
     "text": [
      "Epoch 000 | Train loss: 0.7270 | Val loss: 0.7091\n",
      "Epoch 010 | Train loss: 0.6895 | Val loss: 0.7242\n",
      "Epoch 020 | Train loss: 0.6953 | Val loss: 0.7547\n",
      "Epoch 030 | Train loss: 0.7267 | Val loss: 0.6549\n",
      "Epoch 040 | Train loss: 0.7044 | Val loss: 0.7559\n",
      "Epoch 050 | Train loss: 0.6542 | Val loss: 0.6638\n",
      "Epoch 060 | Train loss: 0.6524 | Val loss: 0.6771\n",
      "Epoch 070 | Train loss: 0.6305 | Val loss: 0.6758\n",
      "Epoch 080 | Train loss: 0.6420 | Val loss: 0.6214\n",
      "Epoch 090 | Train loss: 0.6555 | Val loss: 0.6288\n",
      "Epoch 100 | Train loss: 0.6490 | Val loss: 0.6249\n",
      "Epoch 110 | Train loss: 0.6811 | Val loss: 0.6327\n",
      "Epoch 120 | Train loss: 0.6430 | Val loss: 0.6232\n"
     ]
    }
   ],
   "source": [
    "# Lists to store loss values for plotting or analysis\n",
    "test_loss_store = []\n",
    "val_loss_store = []\n",
    "\n",
    "# Training loop for 125 epochs\n",
    "for epoch in range(125):\n",
    "    model.train()  # Set model to training mode\n",
    "\n",
    "    # Iterate through batches in the training DataLoader\n",
    "    for X_batch, y_batch in train_loader:\n",
    "        y_pred = model(X_batch).squeeze(1)      # Model prediction, shape: [batch_size]\n",
    "        y_batch = y_batch.float().squeeze(1)    # Ensure y_batch matches shape and type\n",
    "\n",
    "        loss = loss_fn(y_pred, y_batch)         # Compute training loss\n",
    "\n",
    "        # Backpropagation\n",
    "        optimizer.zero_grad()  # Clear previous gradients\n",
    "        loss.backward()        # Compute gradients\n",
    "        optimizer.step()       # Update model parameters\n",
    "\n",
    "    # Evaluation on validation set\n",
    "    model.eval()  # Set model to evaluation mode\n",
    "    with torch.inference_mode():  # Disable gradient calculation for efficiency\n",
    "        y_val_pred = model(X_val).squeeze(1)                 # Predict on validation data\n",
    "        val_loss = loss_fn(y_val_pred, y_val.squeeze(1))     # Compute validation loss\n",
    "\n",
    "    # Store and print losses every 10 epochs\n",
    "    if epoch % 10 == 0:\n",
    "        test_loss_store.append(loss.item())         # Save last training batch's loss\n",
    "        val_loss_store.append(val_loss.item())      # Save validation loss\n",
    "\n",
    "        # Print progress\n",
    "        print(f\"Epoch {epoch:03d} | \"\n",
    "              f\"Train loss: {loss.item():.4f} | \"\n",
    "              f\"Val loss: {val_loss.item():.4f}\")\n"
   ]
  },
  {
   "cell_type": "code",
   "execution_count": 31,
   "id": "e384afb9-ebd9-49af-9b19-f03166e7f4bf",
   "metadata": {},
   "outputs": [
    {
     "data": {
      "image/png": "[encoded data removed]",
      "text/plain": [
       "<Figure size 800x500 with 1 Axes>"
      ]
     },
     "metadata": {},
     "output_type": "display_data"
    }
   ],
   "source": [
    "# Visualise the changes in training loss and validation loss over epochs.\n",
    "epochs = list(range(0, 125, 10))\n",
    "\n",
    "plt.figure(figsize=(8, 5))\n",
    "plt.plot(epochs, test_loss_store, label='Train Loss', marker='o')\n",
    "plt.plot(epochs, val_loss_store, label='Validation Loss', marker='o')\n",
    "\n",
    "plt.title('Training vs Validation Loss')\n",
    "plt.xlabel('Epoch')\n",
    "plt.ylabel('Loss')\n",
    "plt.legend()\n",
    "plt.grid(True)\n",
    "plt.tight_layout()\n",
    "plt.show()"
   ]
  },
  {
   "cell_type": "markdown",
   "id": "67c2b23b-7a88-49b9-b273-f6cd74abc4a1",
   "metadata": {},
   "source": [
    "<b> Evaluation of loss numbers: </b>\n",
    "- Loss are decreasing steadily for both but with fluctuations.\n",
    "- Fluctuations may be caused by stochasticity in the validation set.\n",
    "- Training and evaluation losses are close together at the end with validation loss lower than training loss. This means that the model is performing better on unnseen validation data.\n",
    "- There’s no strong evidence of overfitting here. Overfitting would show as training loss continuing downward while validation loss plateaus or rises."
   ]
  },
  {
   "cell_type": "code",
   "execution_count": 32,
   "id": "17548260-b9c0-4c8a-a2ff-a3588b3b6a8d",
   "metadata": {},
   "outputs": [
    {
     "name": "stdout",
     "output_type": "stream",
     "text": [
      "Test loss: 0.6551\n",
      "Test Accuracy: 0.7714\n"
     ]
    }
   ],
   "source": [
    "# Test on test sets\n",
    "with torch.inference_mode(): # Disable gradient tracking for faster and safer evaluation\n",
    "    \n",
    "    y_test_pred = model(X_test) # Get predicted probabilities from the model\n",
    "    \n",
    "    y_test_labels = (y_test_pred >= 0.5).float() # Convert probabilities to binary predictions using threshold 0.5\n",
    "\n",
    "    test_loss = loss_fn(y_test_pred, y_test)  # Calculate test loss using the original probabilities and true labels\n",
    "\n",
    "    print(f\"Test loss: {test_loss.item():.4f}\")\n",
    "\n",
    "\n",
    "accuracy = accuracy_score(y_test, y_test_labels) # Compare predicted labels to true labels\n",
    "print(f\"Test Accuracy: {accuracy:.4f}\")"
   ]
  },
  {
   "cell_type": "code",
   "execution_count": 33,
   "id": "26edfdef-dd2b-4ced-bf29-bdd63c5274cf",
   "metadata": {},
   "outputs": [
    {
     "name": "stdout",
     "output_type": "stream",
     "text": [
      "[[21  6]\n",
      " [ 2  6]]\n"
     ]
    }
   ],
   "source": [
    "# Create a confusion matrix for evaluation\n",
    "print(confusion_matrix(y_test, y_test_labels))"
   ]
  },
  {
   "cell_type": "code",
   "execution_count": 34,
   "id": "1c98ce8c-86e6-4d1b-b6e3-17674b404a51",
   "metadata": {},
   "outputs": [
    {
     "name": "stdout",
     "output_type": "stream",
     "text": [
      "              precision    recall  f1-score   support\n",
      "\n",
      "         0.0     0.9130    0.7778    0.8400        27\n",
      "         1.0     0.5000    0.7500    0.6000         8\n",
      "\n",
      "    accuracy                         0.7714        35\n",
      "   macro avg     0.7065    0.7639    0.7200        35\n",
      "weighted avg     0.8186    0.7714    0.7851        35\n",
      "\n"
     ]
    }
   ],
   "source": [
    "# Detach values from graph and move to CPU for sklearn \n",
    "y_true = y_test.cpu().numpy()\n",
    "y_pred = y_test_labels.cpu().numpy()\n",
    "\n",
    "# Create a classification report for evaluation\n",
    "print(classification_report(y_true, y_pred, digits=4))"
   ]
  },
  {
   "cell_type": "code",
   "execution_count": 41,
   "id": "cf876dbd-aad5-40c6-bc12-655e33637e3d",
   "metadata": {},
   "outputs": [
    {
     "name": "stdout",
     "output_type": "stream",
     "text": [
      "Epoch 000 | Train Loss: 2.1805 | Val Loss: 8.6718\n",
      "Epoch 010 | Train Loss: 0.5803 | Val Loss: 1.2955\n",
      "Epoch 020 | Train Loss: 0.7708 | Val Loss: 1.9784\n",
      "Epoch 030 | Train Loss: 0.5603 | Val Loss: 1.0004\n",
      "Epoch 040 | Train Loss: 0.6657 | Val Loss: 1.4033\n",
      "Epoch 050 | Train Loss: 0.5632 | Val Loss: 0.9066\n",
      "Epoch 060 | Train Loss: 0.5650 | Val Loss: 0.6141\n",
      "Epoch 070 | Train Loss: 0.5542 | Val Loss: 0.6965\n",
      "Epoch 080 | Train Loss: 0.5532 | Val Loss: 0.7447\n",
      "Epoch 090 | Train Loss: 0.5500 | Val Loss: 0.7326\n",
      "Epoch 100 | Train Loss: 0.5470 | Val Loss: 0.7063\n",
      "Epoch 110 | Train Loss: 0.5423 | Val Loss: 0.6906\n",
      "Epoch 120 | Train Loss: 0.5374 | Val Loss: 0.6811\n",
      "\n",
      "Test Loss: 0.6712\n",
      "Test Accuracy: 0.6981\n",
      "              precision    recall  f1-score   support\n",
      "\n",
      "         0.0       0.70      1.00      0.82        37\n",
      "         1.0       0.00      0.00      0.00        16\n",
      "\n",
      "    accuracy                           0.70        53\n",
      "   macro avg       0.35      0.50      0.41        53\n",
      "weighted avg       0.49      0.70      0.57        53\n",
      "\n"
     ]
    },
    {
     "name": "stderr",
     "output_type": "stream",
     "text": [
      "/home/hle12/miniforge3/lib/python3.12/site-packages/sklearn/metrics/_classification.py:1565: UndefinedMetricWarning: Precision is ill-defined and being set to 0.0 in labels with no predicted samples. Use `zero_division` parameter to control this behavior.\n",
      "  _warn_prf(average, modifier, f\"{metric.capitalize()} is\", len(result))\n",
      "/home/hle12/miniforge3/lib/python3.12/site-packages/sklearn/metrics/_classification.py:1565: UndefinedMetricWarning: Precision is ill-defined and being set to 0.0 in labels with no predicted samples. Use `zero_division` parameter to control this behavior.\n",
      "  _warn_prf(average, modifier, f\"{metric.capitalize()} is\", len(result))\n",
      "/home/hle12/miniforge3/lib/python3.12/site-packages/sklearn/metrics/_classification.py:1565: UndefinedMetricWarning: Precision is ill-defined and being set to 0.0 in labels with no predicted samples. Use `zero_division` parameter to control this behavior.\n",
      "  _warn_prf(average, modifier, f\"{metric.capitalize()} is\", len(result))\n"
     ]
    }
   ],
   "source": [
    "# Train another model without SMOTE and stratified sampling for comparison\n",
    "\n",
    "X = numeric_df.copy().drop('Violence', axis = 1)\n",
    "y = numeric_df['Violence']\n",
    "\n",
    "# First split: train + temp (val+test)\n",
    "X_train, X_temp, y_train, y_temp = train_test_split(\n",
    "    X, y, test_size=0.3, random_state=42, shuffle=True\n",
    ")\n",
    "\n",
    "# Second split: validation + test\n",
    "X_val, X_test, y_val, y_test = train_test_split(\n",
    "    X_temp, y_temp, test_size=0.5, random_state=42, shuffle=True\n",
    ")\n",
    "\n",
    "# Convert to torch tensors\n",
    "X_train = torch.tensor(X_train.values, dtype=torch.float32)\n",
    "X_val   = torch.tensor(X_val.values, dtype=torch.float32)\n",
    "X_test  = torch.tensor(X_test.values, dtype=torch.float32)\n",
    "\n",
    "y_train = torch.tensor(y_train.values, dtype=torch.float32).unsqueeze(1)\n",
    "y_val   = torch.tensor(y_val.values, dtype=torch.float32).unsqueeze(1)\n",
    "y_test  = torch.tensor(y_test.values, dtype=torch.float32).unsqueeze(1)\n",
    "\n",
    "\n",
    "# Define model\n",
    "model = nn.Sequential(\n",
    "    nn.Linear(6, 32),\n",
    "    nn.ReLU(),\n",
    "    nn.Linear(32, 16),\n",
    "    nn.ReLU(),\n",
    "    nn.Linear(16, 32),\n",
    "    nn.ReLU(),\n",
    "    nn.Linear(32, 1)  # binary classification -> 1 output\n",
    ")\n",
    "\n",
    "# Loss function and optimizer\n",
    "loss_fn = nn.BCEWithLogitsLoss()\n",
    "optimizer = optim.Adam(model.parameters(), lr=0.001)\n",
    "\n",
    "# Training loop\n",
    "num_epochs = 125\n",
    "train_losses = []\n",
    "val_losses = []\n",
    "\n",
    "for epoch in range(num_epochs):\n",
    "    model.train()\n",
    "\n",
    "    # Forward pass on *all* training data\n",
    "    y_pred = model(X_train)                 # shape [277,1]\n",
    "    loss = loss_fn(y_pred, y_train)         # shape matches!\n",
    "\n",
    "    # Backpropagation\n",
    "    optimizer.zero_grad()\n",
    "    loss.backward()\n",
    "    optimizer.step()\n",
    "\n",
    "    # Validation\n",
    "    model.eval()\n",
    "    with torch.inference_mode():\n",
    "        y_val_pred = model(X_val)\n",
    "        val_loss = loss_fn(y_val_pred, y_val)\n",
    "\n",
    "    train_losses.append(loss.item())\n",
    "    val_losses.append(val_loss.item())\n",
    "\n",
    "    if epoch % 10 == 0:\n",
    "        print(f\"Epoch {epoch:03d} | Train Loss: {loss.item():.4f} | Val Loss: {val_loss.item():.4f}\")\n",
    "\n",
    "# Final test evaluation\n",
    "model.eval()\n",
    "with torch.inference_mode():\n",
    "    y_test_pred = model(X_test)\n",
    "    test_loss = loss_fn(y_test_pred, y_test)\n",
    "\n",
    "    y_test_labels = (torch.sigmoid(y_test_pred) >= 0.5).float()\n",
    "    acc = accuracy_score(y_test, y_test_labels)\n",
    "\n",
    "print(f\"\\nTest Loss: {test_loss.item():.4f}\")\n",
    "print(f\"Test Accuracy: {acc:.4f}\")\n",
    "print(classification_report(y_test, y_test_labels))"
   ]
  },
  {
   "cell_type": "markdown",
   "id": "5ba783d5-7cd6-4eb3-b919-e9f224e50282",
   "metadata": {},
   "source": [
    "<b> Evaluation of model: </b>\n",
    "\n",
    "⭐ With about 75% no violence and 25% violence, a naive baseline model that always predicts the majority class (\"no violence\") would get about 75% accuracy. The model's accuracy is 77.14% which is higher than this baseline accuracy. However, this difference is not substantial. \n",
    "\n",
    "⭐ Without SMOTE and Stratified Sampling, the model achieved the same accuracy but completely failed to detect the minority class (F1 = 0). With SMOTE, accuracy only increased by 10.2%, but recall for the minority class improved from 0.00 to 0.75. In real-world safety contexts, this improvement in recall is useful if the model is used to identify positive cases (domestic violence incidents).\n",
    "\n",
    "⭐ While precision for predicting class 1 is only 0.5, only 24.78% of the dataset is class 1. Consequently, a precision of 0.5 is relatively reasonable for this class imbalance.\n",
    "\n",
    "⭐ Both the test loss (0.6551) and the accuracy (0.7714) of the model is moderately high indicating that while the model is making many correct predictions, confidence is low. This may be because, due to imbalanced class, the model becomes unconfident in predicting minority classes. \n"
   ]
  },
  {
   "cell_type": "code",
   "execution_count": null,
   "id": "084fbe84-4431-4aee-b7b2-feca61606967",
   "metadata": {},
   "outputs": [],
   "source": []
  }
 ],
 "metadata": {
  "kernelspec": {
   "display_name": "Python 3 (ipykernel)",
   "language": "python",
   "name": "python3"
  },
  "language_info": {
   "codemirror_mode": {
    "name": "ipython",
    "version": 3
   },
   "file_extension": ".py",
   "mimetype": "text/x-python",
   "name": "python",
   "nbconvert_exporter": "python",
   "pygments_lexer": "ipython3",
   "version": "3.12.9"
  }
 },
 "nbformat": 4,
 "nbformat_minor": 5
}
